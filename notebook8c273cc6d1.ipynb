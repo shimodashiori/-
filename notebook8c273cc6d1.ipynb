{
 "cells": [
  {
   "cell_type": "code",
   "execution_count": 1,
   "id": "8ed2565f",
   "metadata": {
    "_cell_guid": "b1076dfc-b9ad-4769-8c92-a6c4dae69d19",
    "_uuid": "8f2839f25d086af736a60e9eeb907d3b93b6e0e5",
    "execution": {
     "iopub.execute_input": "2022-02-15T11:31:24.071915Z",
     "iopub.status.busy": "2022-02-15T11:31:24.070512Z",
     "iopub.status.idle": "2022-02-15T11:31:24.100247Z",
     "shell.execute_reply": "2022-02-15T11:31:24.101526Z"
    },
    "papermill": {
     "duration": 0.050679,
     "end_time": "2022-02-15T11:31:24.102168",
     "exception": false,
     "start_time": "2022-02-15T11:31:24.051489",
     "status": "completed"
    },
    "tags": []
   },
   "outputs": [
    {
     "name": "stdout",
     "output_type": "stream",
     "text": [
      "/kaggle/input/titanic1/train.csv\n",
      "/kaggle/input/titanic1/test.csv\n",
      "/kaggle/input/titanic1/gender_submission.csv\n"
     ]
    }
   ],
   "source": [
    "# This Python 3 environment comes with many helpful analytics libraries installed\n",
    "# It is defined by the kaggle/python Docker image: https://github.com/kaggle/docker-python\n",
    "# For example, here's several helpful packages to load\n",
    "\n",
    "import numpy as np # linear algebra\n",
    "import pandas as pd # data processing, CSV file I/O (e.g. pd.read_csv)\n",
    "\n",
    "# Input data files are available in the read-only \"../input/\" directory\n",
    "# For example, running this (by clicking run or pressing Shift+Enter) will list all files under the input directory\n",
    "\n",
    "import os\n",
    "for dirname, _, filenames in os.walk('/kaggle/input'):\n",
    "    for filename in filenames:\n",
    "        print(os.path.join(dirname, filename))\n",
    "\n",
    "# You can write up to 20GB to the current directory (/kaggle/working/) that gets preserved as output when you create a version using \"Save & Run All\" \n",
    "# You can also write temporary files to /kaggle/temp/, but they won't be saved outside of the current session"
   ]
  },
  {
   "cell_type": "code",
   "execution_count": 2,
   "id": "de99e1d8",
   "metadata": {
    "execution": {
     "iopub.execute_input": "2022-02-15T11:31:24.140303Z",
     "iopub.status.busy": "2022-02-15T11:31:24.139575Z",
     "iopub.status.idle": "2022-02-15T11:31:25.487343Z",
     "shell.execute_reply": "2022-02-15T11:31:25.487992Z",
     "shell.execute_reply.started": "2022-02-15T04:08:57.679138Z"
    },
    "papermill": {
     "duration": 1.370355,
     "end_time": "2022-02-15T11:31:25.488217",
     "exception": false,
     "start_time": "2022-02-15T11:31:24.117862",
     "status": "completed"
    },
    "tags": []
   },
   "outputs": [],
   "source": [
    "import numpy as np\n",
    "import pandas as pd\n",
    "import matplotlib.pyplot as plt\n",
    "import seaborn as sns\n",
    "from sklearn.svm import SVC\n",
    "from sklearn.metrics import precision_score"
   ]
  },
  {
   "cell_type": "code",
   "execution_count": 3,
   "id": "27b12e5f",
   "metadata": {
    "execution": {
     "iopub.execute_input": "2022-02-15T11:31:25.517645Z",
     "iopub.status.busy": "2022-02-15T11:31:25.516910Z",
     "iopub.status.idle": "2022-02-15T11:31:25.567032Z",
     "shell.execute_reply": "2022-02-15T11:31:25.566351Z",
     "shell.execute_reply.started": "2022-02-15T03:38:01.028601Z"
    },
    "papermill": {
     "duration": 0.065562,
     "end_time": "2022-02-15T11:31:25.567187",
     "exception": false,
     "start_time": "2022-02-15T11:31:25.501625",
     "status": "completed"
    },
    "tags": []
   },
   "outputs": [
    {
     "name": "stdout",
     "output_type": "stream",
     "text": [
      "   PassengerId  Survived  Pclass  \\\n",
      "0            1         0       3   \n",
      "1            2         1       1   \n",
      "2            3         1       3   \n",
      "3            4         1       1   \n",
      "4            5         0       3   \n",
      "\n",
      "                                                Name     Sex   Age  SibSp  \\\n",
      "0                            Braund, Mr. Owen Harris    male  22.0      1   \n",
      "1  Cumings, Mrs. John Bradley (Florence Briggs Th...  female  38.0      1   \n",
      "2                             Heikkinen, Miss. Laina  female  26.0      0   \n",
      "3       Futrelle, Mrs. Jacques Heath (Lily May Peel)  female  35.0      1   \n",
      "4                           Allen, Mr. William Henry    male  35.0      0   \n",
      "\n",
      "   Parch            Ticket     Fare Cabin Embarked  \n",
      "0      0         A/5 21171   7.2500   NaN        S  \n",
      "1      0          PC 17599  71.2833   C85        C  \n",
      "2      0  STON/O2. 3101282   7.9250   NaN        S  \n",
      "3      0            113803  53.1000  C123        S  \n",
      "4      0            373450   8.0500   NaN        S  \n",
      "   PassengerId  Pclass                                          Name     Sex  \\\n",
      "0          892       3                              Kelly, Mr. James    male   \n",
      "1          893       3              Wilkes, Mrs. James (Ellen Needs)  female   \n",
      "2          894       2                     Myles, Mr. Thomas Francis    male   \n",
      "3          895       3                              Wirz, Mr. Albert    male   \n",
      "4          896       3  Hirvonen, Mrs. Alexander (Helga E Lindqvist)  female   \n",
      "\n",
      "    Age  SibSp  Parch   Ticket     Fare Cabin Embarked  \n",
      "0  34.5      0      0   330911   7.8292   NaN        Q  \n",
      "1  47.0      1      0   363272   7.0000   NaN        S  \n",
      "2  62.0      0      0   240276   9.6875   NaN        Q  \n",
      "3  27.0      0      0   315154   8.6625   NaN        S  \n",
      "4  22.0      1      1  3101298  12.2875   NaN        S  \n"
     ]
    }
   ],
   "source": [
    "train = pd.read_csv('../input/titanic1/train.csv')\n",
    "test = pd.read_csv('../input/titanic1/test.csv')\n",
    "print(train[:5])\n",
    "print(test[:5])"
   ]
  },
  {
   "cell_type": "code",
   "execution_count": 4,
   "id": "8627fdc3",
   "metadata": {
    "execution": {
     "iopub.execute_input": "2022-02-15T11:31:25.596194Z",
     "iopub.status.busy": "2022-02-15T11:31:25.595397Z",
     "iopub.status.idle": "2022-02-15T11:31:25.609810Z",
     "shell.execute_reply": "2022-02-15T11:31:25.609195Z",
     "shell.execute_reply.started": "2022-02-15T03:38:08.834353Z"
    },
    "papermill": {
     "duration": 0.030176,
     "end_time": "2022-02-15T11:31:25.609999",
     "exception": false,
     "start_time": "2022-02-15T11:31:25.579823",
     "status": "completed"
    },
    "tags": []
   },
   "outputs": [],
   "source": [
    "train = train.drop([\"Name\",\"Ticket\",\"Cabin\"],axis=1)"
   ]
  },
  {
   "cell_type": "raw",
   "id": "e9b51025",
   "metadata": {
    "papermill": {
     "duration": 0.012328,
     "end_time": "2022-02-15T11:31:25.635192",
     "exception": false,
     "start_time": "2022-02-15T11:31:25.622864",
     "status": "completed"
    },
    "tags": []
   },
   "source": [
    "train = train.dropna(subset=[\"Embarked\"])\n"
   ]
  },
  {
   "cell_type": "code",
   "execution_count": 5,
   "id": "9e39c850",
   "metadata": {
    "execution": {
     "iopub.execute_input": "2022-02-15T11:31:25.666248Z",
     "iopub.status.busy": "2022-02-15T11:31:25.665393Z",
     "iopub.status.idle": "2022-02-15T11:31:25.682981Z",
     "shell.execute_reply": "2022-02-15T11:31:25.682288Z",
     "shell.execute_reply.started": "2022-02-15T03:39:10.970942Z"
    },
    "papermill": {
     "duration": 0.033886,
     "end_time": "2022-02-15T11:31:25.683152",
     "exception": false,
     "start_time": "2022-02-15T11:31:25.649266",
     "status": "completed"
    },
    "tags": []
   },
   "outputs": [
    {
     "name": "stdout",
     "output_type": "stream",
     "text": [
      "   PassengerId  Survived  Pclass     Sex   Age  SibSp  Parch     Fare Embarked\n",
      "0            1         0       3    male  22.0      1      0   7.2500        S\n",
      "1            2         1       1  female  38.0      1      0  71.2833        C\n",
      "2            3         1       3  female  26.0      0      0   7.9250        S\n",
      "3            4         1       1  female  35.0      1      0  53.1000        S\n",
      "4            5         0       3    male  35.0      0      0   8.0500        S\n"
     ]
    }
   ],
   "source": [
    "train = train.dropna(subset=[\"Embarked\"])\n",
    "from sklearn import preprocessing\n",
    "le = preprocessing.LabelEncoder()\n",
    "print(train[:5])\n",
    "train.loc[:,\"Sex\"] = le.fit_transform(train.loc[:,\"Sex\"].values)\n",
    "train.loc[:,\"Embarked\"] = le.fit_transform(train.loc[:,\"Embarked\"].values)"
   ]
  },
  {
   "cell_type": "code",
   "execution_count": 6,
   "id": "6fd8887f",
   "metadata": {
    "execution": {
     "iopub.execute_input": "2022-02-15T11:31:25.713271Z",
     "iopub.status.busy": "2022-02-15T11:31:25.712610Z",
     "iopub.status.idle": "2022-02-15T11:31:25.726131Z",
     "shell.execute_reply": "2022-02-15T11:31:25.725616Z",
     "shell.execute_reply.started": "2022-02-15T03:39:24.604659Z"
    },
    "papermill": {
     "duration": 0.029888,
     "end_time": "2022-02-15T11:31:25.726285",
     "exception": false,
     "start_time": "2022-02-15T11:31:25.696397",
     "status": "completed"
    },
    "tags": []
   },
   "outputs": [
    {
     "name": "stdout",
     "output_type": "stream",
     "text": [
      "     PassengerId  Pclass  Sex   Age  SibSp  Parch     Fare  Embarked\n",
      "0              1       3    1  22.0      1      0   7.2500         2\n",
      "1              2       1    0  38.0      1      0  71.2833         0\n",
      "2              3       3    0  26.0      0      0   7.9250         2\n",
      "3              4       1    0  35.0      1      0  53.1000         2\n",
      "4              5       3    1  35.0      0      0   8.0500         2\n",
      "..           ...     ...  ...   ...    ...    ...      ...       ...\n",
      "886          887       2    1  27.0      0      0  13.0000         2\n",
      "887          888       1    0  19.0      0      0  30.0000         2\n",
      "888          889       3    0   NaN      1      2  23.4500         2\n",
      "889          890       1    1  26.0      0      0  30.0000         0\n",
      "890          891       3    1  32.0      0      0   7.7500         1\n",
      "\n",
      "[889 rows x 8 columns]\n"
     ]
    }
   ],
   "source": [
    "y = train[\"Survived\"]\n",
    "x = train.drop([\"Survived\"],axis=1)\n",
    "print(x)"
   ]
  },
  {
   "cell_type": "code",
   "execution_count": 7,
   "id": "a89400bd",
   "metadata": {
    "execution": {
     "iopub.execute_input": "2022-02-15T11:31:25.762135Z",
     "iopub.status.busy": "2022-02-15T11:31:25.761392Z",
     "iopub.status.idle": "2022-02-15T11:31:25.764195Z",
     "shell.execute_reply": "2022-02-15T11:31:25.764772Z",
     "shell.execute_reply.started": "2022-02-15T03:39:30.367098Z"
    },
    "papermill": {
     "duration": 0.024151,
     "end_time": "2022-02-15T11:31:25.764971",
     "exception": false,
     "start_time": "2022-02-15T11:31:25.740820",
     "status": "completed"
    },
    "tags": []
   },
   "outputs": [],
   "source": [
    "from sklearn.model_selection import train_test_split\n",
    "x_train,x_test,y_train,y_test = train_test_split(x,y,test_size=0.2,train_size=0.8,shuffle=True)"
   ]
  },
  {
   "cell_type": "code",
   "execution_count": 8,
   "id": "e7d64fff",
   "metadata": {
    "execution": {
     "iopub.execute_input": "2022-02-15T11:31:25.796943Z",
     "iopub.status.busy": "2022-02-15T11:31:25.796042Z",
     "iopub.status.idle": "2022-02-15T11:31:26.231980Z",
     "shell.execute_reply": "2022-02-15T11:31:26.231191Z",
     "shell.execute_reply.started": "2022-02-15T03:59:26.219241Z"
    },
    "papermill": {
     "duration": 0.452999,
     "end_time": "2022-02-15T11:31:26.232178",
     "exception": false,
     "start_time": "2022-02-15T11:31:25.779179",
     "status": "completed"
    },
    "tags": []
   },
   "outputs": [
    {
     "name": "stdout",
     "output_type": "stream",
     "text": [
      "[11:31:25] WARNING: ../src/learner.cc:1115: Starting in XGBoost 1.3.0, the default evaluation metric used with the objective 'binary:logistic' was changed from 'error' to 'logloss'. Explicitly set eval_metric if you'd like to restore the old behavior.\n"
     ]
    },
    {
     "name": "stderr",
     "output_type": "stream",
     "text": [
      "/opt/conda/lib/python3.7/site-packages/xgboost/sklearn.py:1224: UserWarning: The use of label encoder in XGBClassifier is deprecated and will be removed in a future release. To remove this warning, do the following: 1) Pass option use_label_encoder=False when constructing XGBClassifier object; and 2) Encode your labels (y) as integers starting with 0, i.e. 0, 1, 2, ..., [num_class - 1].\n",
      "  warnings.warn(label_encoder_deprecation_msg, UserWarning)\n"
     ]
    },
    {
     "data": {
      "text/plain": [
       "XGBClassifier(base_score=0.5, booster='gbtree', colsample_bylevel=1,\n",
       "              colsample_bynode=1, colsample_bytree=1, enable_categorical=False,\n",
       "              gamma=0, gpu_id=-1, importance_type=None,\n",
       "              interaction_constraints='', learning_rate=0.300000012,\n",
       "              max_delta_step=0, max_depth=6, min_child_weight=1, missing=nan,\n",
       "              monotone_constraints='()', n_estimators=100, n_jobs=4,\n",
       "              num_parallel_tree=1, predictor='auto', random_state=0,\n",
       "              reg_alpha=0, reg_lambda=1, scale_pos_weight=1, subsample=1,\n",
       "              tree_method='exact', validate_parameters=1, verbosity=None)"
      ]
     },
     "execution_count": 8,
     "metadata": {},
     "output_type": "execute_result"
    }
   ],
   "source": [
    "from sklearn.svm import SVC\n",
    "from xgboost import XGBClassifier \n",
    "xg = XGBClassifier()\n",
    "xg.fit(x_train,y_train)"
   ]
  },
  {
   "cell_type": "code",
   "execution_count": 9,
   "id": "eecba117",
   "metadata": {
    "execution": {
     "iopub.execute_input": "2022-02-15T11:31:26.270113Z",
     "iopub.status.busy": "2022-02-15T11:31:26.269321Z",
     "iopub.status.idle": "2022-02-15T11:31:26.624008Z",
     "shell.execute_reply": "2022-02-15T11:31:26.624616Z",
     "shell.execute_reply.started": "2022-02-15T03:59:10.605946Z"
    },
    "papermill": {
     "duration": 0.37511,
     "end_time": "2022-02-15T11:31:26.624842",
     "exception": false,
     "start_time": "2022-02-15T11:31:26.249732",
     "status": "completed"
    },
    "tags": []
   },
   "outputs": [
    {
     "name": "stdout",
     "output_type": "stream",
     "text": [
      "[11:31:26] WARNING: ../src/learner.cc:1115: Starting in XGBoost 1.3.0, the default evaluation metric used with the objective 'binary:logistic' was changed from 'error' to 'logloss'. Explicitly set eval_metric if you'd like to restore the old behavior.\n",
      "precision_score 0.7808988764044944\n"
     ]
    }
   ],
   "source": [
    "from sklearn.metrics import accuracy_score\n",
    "clf= SVC()\n",
    "xg.fit(x_train,y_train)\n",
    "y_pred = xg.predict(x_test)\n",
    "print(\"precision_score\",accuracy_score(y_test,y_pred))"
   ]
  },
  {
   "cell_type": "markdown",
   "id": "5aedcf3b",
   "metadata": {
    "papermill": {
     "duration": 0.017552,
     "end_time": "2022-02-15T11:31:26.659403",
     "exception": false,
     "start_time": "2022-02-15T11:31:26.641851",
     "status": "completed"
    },
    "tags": []
   },
   "source": []
  }
 ],
 "metadata": {
  "kernelspec": {
   "display_name": "Python 3",
   "language": "python",
   "name": "python3"
  },
  "language_info": {
   "codemirror_mode": {
    "name": "ipython",
    "version": 3
   },
   "file_extension": ".py",
   "mimetype": "text/x-python",
   "name": "python",
   "nbconvert_exporter": "python",
   "pygments_lexer": "ipython3",
   "version": "3.7.12"
  },
  "papermill": {
   "default_parameters": {},
   "duration": 13.679659,
   "end_time": "2022-02-15T11:31:27.591325",
   "environment_variables": {},
   "exception": null,
   "input_path": "__notebook__.ipynb",
   "output_path": "__notebook__.ipynb",
   "parameters": {},
   "start_time": "2022-02-15T11:31:13.911666",
   "version": "2.3.3"
  }
 },
 "nbformat": 4,
 "nbformat_minor": 5
}
