{
 "cells": [
  {
   "cell_type": "code",
   "execution_count": null,
   "id": "3c37d252",
   "metadata": {
    "papermill": {
     "duration": 0.012828,
     "end_time": "2022-02-16T09:46:16.080447",
     "exception": false,
     "start_time": "2022-02-16T09:46:16.067619",
     "status": "completed"
    },
    "tags": []
   },
   "outputs": [],
   "source": []
  },
  {
   "cell_type": "code",
   "execution_count": 1,
   "id": "07be9b8c",
   "metadata": {
    "_cell_guid": "b1076dfc-b9ad-4769-8c92-a6c4dae69d19",
    "_uuid": "8f2839f25d086af736a60e9eeb907d3b93b6e0e5",
    "execution": {
     "iopub.execute_input": "2022-02-16T09:46:16.109903Z",
     "iopub.status.busy": "2022-02-16T09:46:16.108786Z",
     "iopub.status.idle": "2022-02-16T09:46:16.128005Z",
     "shell.execute_reply": "2022-02-16T09:46:16.128501Z"
    },
    "papermill": {
     "duration": 0.035345,
     "end_time": "2022-02-16T09:46:16.128809",
     "exception": false,
     "start_time": "2022-02-16T09:46:16.093464",
     "status": "completed"
    },
    "tags": []
   },
   "outputs": [
    {
     "name": "stdout",
     "output_type": "stream",
     "text": [
      "/kaggle/input/titanic1/train.csv\n",
      "/kaggle/input/titanic1/test.csv\n",
      "/kaggle/input/titanic1/gender_submission.csv\n"
     ]
    }
   ],
   "source": [
    "# This Python 3 environment comes with many helpful analytics libraries installed\n",
    "# It is defined by the kaggle/python Docker image: https://github.com/kaggle/docker-python\n",
    "# For example, here's several helpful packages to load\n",
    "\n",
    "import numpy as np # linear algebra\n",
    "import pandas as pd # data processing, CSV file I/O (e.g. pd.read_csv)\n",
    "\n",
    "# Input data files are available in the read-only \"../input/\" directory\n",
    "# For example, running this (by clicking run or pressing Shift+Enter) will list all files under the input directory\n",
    "\n",
    "import os\n",
    "for dirname, _, filenames in os.walk('/kaggle/input'):\n",
    "    for filename in filenames:\n",
    "        print(os.path.join(dirname, filename))\n",
    "\n",
    "# You can write up to 20GB to the current directory (/kaggle/working/) that gets preserved as output when you create a version using \"Save & Run All\" \n",
    "# You can also write temporary files to /kaggle/temp/, but they won't be saved outside of the current session"
   ]
  },
  {
   "cell_type": "code",
   "execution_count": 2,
   "id": "4b5f83f4",
   "metadata": {
    "execution": {
     "iopub.execute_input": "2022-02-16T09:46:16.156580Z",
     "iopub.status.busy": "2022-02-16T09:46:16.155965Z",
     "iopub.status.idle": "2022-02-16T09:46:17.280873Z",
     "shell.execute_reply": "2022-02-16T09:46:17.281353Z",
     "shell.execute_reply.started": "2022-02-15T04:08:57.679138Z"
    },
    "papermill": {
     "duration": 1.140285,
     "end_time": "2022-02-16T09:46:17.281565",
     "exception": false,
     "start_time": "2022-02-16T09:46:16.141280",
     "status": "completed"
    },
    "tags": []
   },
   "outputs": [],
   "source": [
    "import numpy as np\n",
    "import pandas as pd\n",
    "import matplotlib.pyplot as plt\n",
    "import seaborn as sns\n",
    "from sklearn.svm import SVC\n",
    "from sklearn.metrics import precision_score"
   ]
  },
  {
   "cell_type": "code",
   "execution_count": 3,
   "id": "6c532868",
   "metadata": {
    "execution": {
     "iopub.execute_input": "2022-02-16T09:46:17.311738Z",
     "iopub.status.busy": "2022-02-16T09:46:17.311115Z",
     "iopub.status.idle": "2022-02-16T09:46:17.350210Z",
     "shell.execute_reply": "2022-02-16T09:46:17.350723Z",
     "shell.execute_reply.started": "2022-02-15T03:38:01.028601Z"
    },
    "papermill": {
     "duration": 0.057053,
     "end_time": "2022-02-16T09:46:17.350900",
     "exception": false,
     "start_time": "2022-02-16T09:46:17.293847",
     "status": "completed"
    },
    "tags": []
   },
   "outputs": [
    {
     "name": "stdout",
     "output_type": "stream",
     "text": [
      "   PassengerId  Survived  Pclass  \\\n",
      "0            1         0       3   \n",
      "1            2         1       1   \n",
      "2            3         1       3   \n",
      "3            4         1       1   \n",
      "4            5         0       3   \n",
      "\n",
      "                                                Name     Sex   Age  SibSp  \\\n",
      "0                            Braund, Mr. Owen Harris    male  22.0      1   \n",
      "1  Cumings, Mrs. John Bradley (Florence Briggs Th...  female  38.0      1   \n",
      "2                             Heikkinen, Miss. Laina  female  26.0      0   \n",
      "3       Futrelle, Mrs. Jacques Heath (Lily May Peel)  female  35.0      1   \n",
      "4                           Allen, Mr. William Henry    male  35.0      0   \n",
      "\n",
      "   Parch            Ticket     Fare Cabin Embarked  \n",
      "0      0         A/5 21171   7.2500   NaN        S  \n",
      "1      0          PC 17599  71.2833   C85        C  \n",
      "2      0  STON/O2. 3101282   7.9250   NaN        S  \n",
      "3      0            113803  53.1000  C123        S  \n",
      "4      0            373450   8.0500   NaN        S  \n",
      "   PassengerId  Pclass                                          Name     Sex  \\\n",
      "0          892       3                              Kelly, Mr. James    male   \n",
      "1          893       3              Wilkes, Mrs. James (Ellen Needs)  female   \n",
      "2          894       2                     Myles, Mr. Thomas Francis    male   \n",
      "3          895       3                              Wirz, Mr. Albert    male   \n",
      "4          896       3  Hirvonen, Mrs. Alexander (Helga E Lindqvist)  female   \n",
      "\n",
      "    Age  SibSp  Parch   Ticket     Fare Cabin Embarked  \n",
      "0  34.5      0      0   330911   7.8292   NaN        Q  \n",
      "1  47.0      1      0   363272   7.0000   NaN        S  \n",
      "2  62.0      0      0   240276   9.6875   NaN        Q  \n",
      "3  27.0      0      0   315154   8.6625   NaN        S  \n",
      "4  22.0      1      1  3101298  12.2875   NaN        S  \n"
     ]
    }
   ],
   "source": [
    "train = pd.read_csv('../input/titanic1/train.csv')\n",
    "test = pd.read_csv('../input/titanic1/test.csv')\n",
    "print(train[:5])\n",
    "print(test[:5])"
   ]
  },
  {
   "cell_type": "code",
   "execution_count": 4,
   "id": "780e4ff0",
   "metadata": {
    "execution": {
     "iopub.execute_input": "2022-02-16T09:46:17.387223Z",
     "iopub.status.busy": "2022-02-16T09:46:17.386539Z",
     "iopub.status.idle": "2022-02-16T09:46:17.388324Z",
     "shell.execute_reply": "2022-02-16T09:46:17.388769Z",
     "shell.execute_reply.started": "2022-02-15T03:38:08.834353Z"
    },
    "papermill": {
     "duration": 0.02563,
     "end_time": "2022-02-16T09:46:17.388935",
     "exception": false,
     "start_time": "2022-02-16T09:46:17.363305",
     "status": "completed"
    },
    "tags": []
   },
   "outputs": [],
   "source": [
    "train = train.drop([\"Name\",\"Ticket\",\"Cabin\"],axis=1)"
   ]
  },
  {
   "cell_type": "raw",
   "id": "8a6939b4",
   "metadata": {
    "papermill": {
     "duration": 0.012116,
     "end_time": "2022-02-16T09:46:17.413228",
     "exception": false,
     "start_time": "2022-02-16T09:46:17.401112",
     "status": "completed"
    },
    "tags": []
   },
   "source": [
    "train = train.dropna(subset=[\"Embarked\"])\n"
   ]
  },
  {
   "cell_type": "code",
   "execution_count": 5,
   "id": "0feb6ff3",
   "metadata": {
    "execution": {
     "iopub.execute_input": "2022-02-16T09:46:17.440396Z",
     "iopub.status.busy": "2022-02-16T09:46:17.439809Z",
     "iopub.status.idle": "2022-02-16T09:46:17.455910Z",
     "shell.execute_reply": "2022-02-16T09:46:17.455357Z",
     "shell.execute_reply.started": "2022-02-15T03:39:10.970942Z"
    },
    "papermill": {
     "duration": 0.030841,
     "end_time": "2022-02-16T09:46:17.456045",
     "exception": false,
     "start_time": "2022-02-16T09:46:17.425204",
     "status": "completed"
    },
    "tags": []
   },
   "outputs": [
    {
     "name": "stdout",
     "output_type": "stream",
     "text": [
      "   PassengerId  Survived  Pclass     Sex   Age  SibSp  Parch     Fare Embarked\n",
      "0            1         0       3    male  22.0      1      0   7.2500        S\n",
      "1            2         1       1  female  38.0      1      0  71.2833        C\n",
      "2            3         1       3  female  26.0      0      0   7.9250        S\n",
      "3            4         1       1  female  35.0      1      0  53.1000        S\n",
      "4            5         0       3    male  35.0      0      0   8.0500        S\n"
     ]
    }
   ],
   "source": [
    "train = train.dropna(subset=[\"Embarked\"])\n",
    "from sklearn import preprocessing\n",
    "le = preprocessing.LabelEncoder()\n",
    "print(train[:5])\n",
    "train.loc[:,\"Sex\"] = le.fit_transform(train.loc[:,\"Sex\"].values)\n",
    "train.loc[:,\"Embarked\"] = le.fit_transform(train.loc[:,\"Embarked\"].values)"
   ]
  },
  {
   "cell_type": "code",
   "execution_count": 6,
   "id": "a670641d",
   "metadata": {
    "execution": {
     "iopub.execute_input": "2022-02-16T09:46:17.488538Z",
     "iopub.status.busy": "2022-02-16T09:46:17.487641Z",
     "iopub.status.idle": "2022-02-16T09:46:17.497824Z",
     "shell.execute_reply": "2022-02-16T09:46:17.497378Z",
     "shell.execute_reply.started": "2022-02-15T03:39:24.604659Z"
    },
    "papermill": {
     "duration": 0.02907,
     "end_time": "2022-02-16T09:46:17.497953",
     "exception": false,
     "start_time": "2022-02-16T09:46:17.468883",
     "status": "completed"
    },
    "tags": []
   },
   "outputs": [
    {
     "name": "stdout",
     "output_type": "stream",
     "text": [
      "     PassengerId  Pclass  Sex   Age  SibSp  Parch     Fare  Embarked\n",
      "0              1       3    1  22.0      1      0   7.2500         2\n",
      "1              2       1    0  38.0      1      0  71.2833         0\n",
      "2              3       3    0  26.0      0      0   7.9250         2\n",
      "3              4       1    0  35.0      1      0  53.1000         2\n",
      "4              5       3    1  35.0      0      0   8.0500         2\n",
      "..           ...     ...  ...   ...    ...    ...      ...       ...\n",
      "886          887       2    1  27.0      0      0  13.0000         2\n",
      "887          888       1    0  19.0      0      0  30.0000         2\n",
      "888          889       3    0   NaN      1      2  23.4500         2\n",
      "889          890       1    1  26.0      0      0  30.0000         0\n",
      "890          891       3    1  32.0      0      0   7.7500         1\n",
      "\n",
      "[889 rows x 8 columns]\n"
     ]
    }
   ],
   "source": [
    "y = train[\"Survived\"]\n",
    "x = train.drop([\"Survived\"],axis=1)\n",
    "print(x)"
   ]
  },
  {
   "cell_type": "code",
   "execution_count": 7,
   "id": "1232819d",
   "metadata": {
    "execution": {
     "iopub.execute_input": "2022-02-16T09:46:17.530239Z",
     "iopub.status.busy": "2022-02-16T09:46:17.529569Z",
     "iopub.status.idle": "2022-02-16T09:46:17.532157Z",
     "shell.execute_reply": "2022-02-16T09:46:17.532637Z",
     "shell.execute_reply.started": "2022-02-15T03:39:30.367098Z"
    },
    "papermill": {
     "duration": 0.021724,
     "end_time": "2022-02-16T09:46:17.532802",
     "exception": false,
     "start_time": "2022-02-16T09:46:17.511078",
     "status": "completed"
    },
    "tags": []
   },
   "outputs": [],
   "source": [
    "from sklearn.model_selection import train_test_split\n",
    "x_train,x_test,y_train,y_test = train_test_split(x,y,test_size=0.2,train_size=0.8,shuffle=True)"
   ]
  },
  {
   "cell_type": "code",
   "execution_count": 8,
   "id": "57dd77e0",
   "metadata": {
    "execution": {
     "iopub.execute_input": "2022-02-16T09:46:17.563499Z",
     "iopub.status.busy": "2022-02-16T09:46:17.561630Z",
     "iopub.status.idle": "2022-02-16T09:46:17.944365Z",
     "shell.execute_reply": "2022-02-16T09:46:17.944842Z",
     "shell.execute_reply.started": "2022-02-15T03:59:26.219241Z"
    },
    "papermill": {
     "duration": 0.399534,
     "end_time": "2022-02-16T09:46:17.945027",
     "exception": false,
     "start_time": "2022-02-16T09:46:17.545493",
     "status": "completed"
    },
    "tags": []
   },
   "outputs": [
    {
     "name": "stdout",
     "output_type": "stream",
     "text": [
      "[09:46:17] WARNING: ../src/learner.cc:1115: Starting in XGBoost 1.3.0, the default evaluation metric used with the objective 'binary:logistic' was changed from 'error' to 'logloss'. Explicitly set eval_metric if you'd like to restore the old behavior.\n"
     ]
    },
    {
     "name": "stderr",
     "output_type": "stream",
     "text": [
      "/opt/conda/lib/python3.7/site-packages/xgboost/sklearn.py:1224: UserWarning: The use of label encoder in XGBClassifier is deprecated and will be removed in a future release. To remove this warning, do the following: 1) Pass option use_label_encoder=False when constructing XGBClassifier object; and 2) Encode your labels (y) as integers starting with 0, i.e. 0, 1, 2, ..., [num_class - 1].\n",
      "  warnings.warn(label_encoder_deprecation_msg, UserWarning)\n"
     ]
    },
    {
     "data": {
      "text/plain": [
       "XGBClassifier(base_score=0.5, booster='gbtree', colsample_bylevel=1,\n",
       "              colsample_bynode=1, colsample_bytree=1, enable_categorical=False,\n",
       "              gamma=0, gpu_id=-1, importance_type=None,\n",
       "              interaction_constraints='', learning_rate=0.300000012,\n",
       "              max_delta_step=0, max_depth=6, min_child_weight=1, missing=nan,\n",
       "              monotone_constraints='()', n_estimators=100, n_jobs=4,\n",
       "              num_parallel_tree=1, predictor='auto', random_state=0,\n",
       "              reg_alpha=0, reg_lambda=1, scale_pos_weight=1, subsample=1,\n",
       "              tree_method='exact', validate_parameters=1, verbosity=None)"
      ]
     },
     "execution_count": 8,
     "metadata": {},
     "output_type": "execute_result"
    }
   ],
   "source": [
    "from sklearn.svm import SVC\n",
    "from xgboost import XGBClassifier \n",
    "xg = XGBClassifier()\n",
    "xg.fit(x_train,y_train)"
   ]
  },
  {
   "cell_type": "code",
   "execution_count": 9,
   "id": "b9f81705",
   "metadata": {
    "execution": {
     "iopub.execute_input": "2022-02-16T09:46:17.976764Z",
     "iopub.status.busy": "2022-02-16T09:46:17.976165Z",
     "iopub.status.idle": "2022-02-16T09:46:18.281371Z",
     "shell.execute_reply": "2022-02-16T09:46:18.282032Z",
     "shell.execute_reply.started": "2022-02-15T03:59:10.605946Z"
    },
    "papermill": {
     "duration": 0.322984,
     "end_time": "2022-02-16T09:46:18.282247",
     "exception": false,
     "start_time": "2022-02-16T09:46:17.959263",
     "status": "completed"
    },
    "tags": []
   },
   "outputs": [
    {
     "name": "stdout",
     "output_type": "stream",
     "text": [
      "[09:46:17] WARNING: ../src/learner.cc:1115: Starting in XGBoost 1.3.0, the default evaluation metric used with the objective 'binary:logistic' was changed from 'error' to 'logloss'. Explicitly set eval_metric if you'd like to restore the old behavior.\n",
      "precision_score 0.7584269662921348\n"
     ]
    }
   ],
   "source": [
    "from sklearn.metrics import accuracy_score\n",
    "clf= SVC()\n",
    "xg.fit(x_train,y_train)\n",
    "y_pred = xg.predict(x_test)\n",
    "print(\"precision_score\",accuracy_score(y_test,y_pred))"
   ]
  },
  {
   "cell_type": "markdown",
   "id": "0fc05601",
   "metadata": {
    "papermill": {
     "duration": 0.01496,
     "end_time": "2022-02-16T09:46:18.314143",
     "exception": false,
     "start_time": "2022-02-16T09:46:18.299183",
     "status": "completed"
    },
    "tags": []
   },
   "source": []
  }
 ],
 "metadata": {
  "kernelspec": {
   "display_name": "Python 3",
   "language": "python",
   "name": "python3"
  },
  "language_info": {
   "codemirror_mode": {
    "name": "ipython",
    "version": 3
   },
   "file_extension": ".py",
   "mimetype": "text/x-python",
   "name": "python",
   "nbconvert_exporter": "python",
   "pygments_lexer": "ipython3",
   "version": "3.7.12"
  },
  "papermill": {
   "default_parameters": {},
   "duration": 12.297976,
   "end_time": "2022-02-16T09:46:19.040127",
   "environment_variables": {},
   "exception": null,
   "input_path": "__notebook__.ipynb",
   "output_path": "__notebook__.ipynb",
   "parameters": {},
   "start_time": "2022-02-16T09:46:06.742151",
   "version": "2.3.3"
  }
 },
 "nbformat": 4,
 "nbformat_minor": 5
}
